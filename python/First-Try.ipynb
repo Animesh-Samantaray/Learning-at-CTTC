{
 "cells": [
  {
   "cell_type": "code",
   "execution_count": 3,
   "id": "bc50c049-56cd-47a8-a762-5880465ef44d",
   "metadata": {},
   "outputs": [],
   "source": [
    "import keyword\n"
   ]
  },
  {
   "cell_type": "markdown",
   "id": "c931fa24",
   "metadata": {},
   "source": [
    "# ID checking"
   ]
  },
  {
   "cell_type": "code",
   "execution_count": 8,
   "id": "c9a44b20",
   "metadata": {},
   "outputs": [
    {
     "name": "stdout",
     "output_type": "stream",
     "text": [
      "140736828411592 140736828411592 140736828411624\n"
     ]
    }
   ],
   "source": [
    "x=90\n",
    "y=90\n",
    "z=91\n",
    "print(id(x),id(y),id(z))"
   ]
  },
  {
   "cell_type": "code",
   "execution_count": 5,
   "id": "ecf30938",
   "metadata": {},
   "outputs": [
    {
     "name": "stdout",
     "output_type": "stream",
     "text": [
      "hii\n",
      "None\n"
     ]
    }
   ],
   "source": [
    "print(print('hii'))"
   ]
  },
  {
   "cell_type": "code",
   "execution_count": 2,
   "id": "46fb1990",
   "metadata": {},
   "outputs": [
    {
     "name": "stdout",
     "output_type": "stream",
     "text": [
      "12\n",
      "<class 'str'>\n"
     ]
    }
   ],
   "source": [
    "a=input(\"enter : \")\n",
    "print(a)\n",
    "print(type(a))"
   ]
  },
  {
   "cell_type": "code",
   "execution_count": 7,
   "id": "ec65ff26",
   "metadata": {},
   "outputs": [
    {
     "name": "stdout",
     "output_type": "stream",
     "text": [
      "<class 'str'>\n"
     ]
    }
   ],
   "source": [
    "print(type('a'+'aa'))"
   ]
  },
  {
   "cell_type": "code",
   "execution_count": 11,
   "id": "0b7d3052",
   "metadata": {},
   "outputs": [
    {
     "name": "stdout",
     "output_type": "stream",
     "text": [
      "11223344\n"
     ]
    }
   ],
   "source": [
    "s='11223344'\n",
    "print(s[0:len(s):1])"
   ]
  },
  {
   "cell_type": "code",
   "execution_count": 15,
   "id": "d1db3fff",
   "metadata": {},
   "outputs": [
    {
     "name": "stdout",
     "output_type": "stream",
     "text": [
      "Animesh sam\n"
     ]
    }
   ],
   "source": [
    "s='aniMesh sam'\n",
    "print(s.capitalize())# capitalize the first element  "
   ]
  },
  {
   "cell_type": "code",
   "execution_count": 16,
   "id": "96d7538f",
   "metadata": {},
   "outputs": [
    {
     "data": {
      "text/plain": [
       "'ANImESH SAM'"
      ]
     },
     "execution_count": 16,
     "metadata": {},
     "output_type": "execute_result"
    }
   ],
   "source": [
    "s.swapcase()"
   ]
  },
  {
   "cell_type": "markdown",
   "id": "73327d69",
   "metadata": {},
   "source": [
    "## spliting"
   ]
  },
  {
   "cell_type": "code",
   "execution_count": 24,
   "id": "f48deb72",
   "metadata": {},
   "outputs": [],
   "source": [
    "string = ' i Am  Animesh . samantaray Animesh i Am am '\n",
    "d=string.split('.')"
   ]
  },
  {
   "cell_type": "code",
   "execution_count": 22,
   "id": "2fdc1581",
   "metadata": {},
   "outputs": [
    {
     "name": "stdout",
     "output_type": "stream",
     "text": [
      "[' i Am  Animesh ', ' samantaray']\n"
     ]
    }
   ],
   "source": [
    "print(d)"
   ]
  },
  {
   "cell_type": "code",
   "execution_count": 28,
   "id": "dfef8720",
   "metadata": {},
   "outputs": [
    {
     "data": {
      "text/plain": [
       "2"
      ]
     },
     "execution_count": 28,
     "metadata": {},
     "output_type": "execute_result"
    }
   ],
   "source": [
    "string.count('Animesh')"
   ]
  },
  {
   "cell_type": "markdown",
   "id": "02f922bd",
   "metadata": {},
   "source": [
    "## striping"
   ]
  },
  {
   "cell_type": "code",
   "execution_count": null,
   "id": "9ecb5a87",
   "metadata": {},
   "outputs": [
    {
     "name": "stdout",
     "output_type": "stream",
     "text": [
      "Animesh sam\n"
     ]
    }
   ],
   "source": [
    "s='    Animesh sam   '\n",
    "print(s.strip())\n",
    "#lstrip() will strip from left and rstrip will strip froom right"
   ]
  },
  {
   "cell_type": "code",
   "execution_count": 1,
   "id": "41f92048",
   "metadata": {},
   "outputs": [
    {
     "data": {
      "text/plain": [
       "[1, 2, 3, True, 'An', 55]"
      ]
     },
     "execution_count": 1,
     "metadata": {},
     "output_type": "execute_result"
    }
   ],
   "source": [
    "l=[1,2,3,True,'An']\n",
    "l.append(55)\n",
    "l"
   ]
  },
  {
   "cell_type": "code",
   "execution_count": 36,
   "id": "7ffecca9",
   "metadata": {},
   "outputs": [
    {
     "data": {
      "text/plain": [
       "[1, 5, 5, 5, 5, 5, 2, 3, True, 'An', 5, 55]"
      ]
     },
     "execution_count": 36,
     "metadata": {},
     "output_type": "execute_result"
    }
   ],
   "source": [
    "l.insert(10,5)\n",
    "l"
   ]
  },
  {
   "cell_type": "code",
   "execution_count": 47,
   "id": "37f5af22",
   "metadata": {},
   "outputs": [
    {
     "data": {
      "text/plain": [
       "[False, 1, 1, True, 2, 2, 3, 3, 4, 6]"
      ]
     },
     "execution_count": 47,
     "metadata": {},
     "output_type": "execute_result"
    }
   ],
   "source": [
    "l=[2,3,1,6,4,3,2,1,True,False]\n",
    "l.sort()\n",
    "l"
   ]
  },
  {
   "cell_type": "code",
   "execution_count": 48,
   "id": "5bf0cd70",
   "metadata": {},
   "outputs": [
    {
     "data": {
      "text/plain": [
       "2"
      ]
     },
     "execution_count": 48,
     "metadata": {},
     "output_type": "execute_result"
    }
   ],
   "source": [
    "l.pop(4)"
   ]
  },
  {
   "cell_type": "markdown",
   "id": "28200f84",
   "metadata": {},
   "source": []
  },
  {
   "cell_type": "code",
   "execution_count": 2,
   "id": "5e42507a",
   "metadata": {},
   "outputs": [],
   "source": [
    "dict={\n",
    "    'name':'Animesh','age':12,\n",
    "}\n",
    "t=(1,2,dict)"
   ]
  },
  {
   "cell_type": "code",
   "execution_count": 5,
   "id": "09479df0",
   "metadata": {},
   "outputs": [],
   "source": [
    "dict['nn']='aaaaa'\n",
    "dict['name']='1122'"
   ]
  },
  {
   "cell_type": "code",
   "execution_count": 6,
   "id": "56005e84",
   "metadata": {},
   "outputs": [
    {
     "name": "stdout",
     "output_type": "stream",
     "text": [
      "(1, 2, {'name': '1122', 'age': 12, 'nn': 'aaaaa'})\n"
     ]
    }
   ],
   "source": [
    "print(t)"
   ]
  },
  {
   "cell_type": "code",
   "execution_count": 7,
   "id": "54eaf63d",
   "metadata": {},
   "outputs": [
    {
     "name": "stdout",
     "output_type": "stream",
     "text": [
      "{1, 2, 3, 333}\n"
     ]
    }
   ],
   "source": [
    "s={1,2,3}\n",
    "s.add(333)\n",
    "print(s)"
   ]
  },
  {
   "cell_type": "code",
   "execution_count": null,
   "id": "edbc4b5a",
   "metadata": {},
   "outputs": [],
   "source": []
  }
 ],
 "metadata": {
  "kernelspec": {
   "display_name": "Python 3",
   "language": "python",
   "name": "python3"
  },
  "language_info": {
   "codemirror_mode": {
    "name": "ipython",
    "version": 3
   },
   "file_extension": ".py",
   "mimetype": "text/x-python",
   "name": "python",
   "nbconvert_exporter": "python",
   "pygments_lexer": "ipython3",
   "version": "3.13.2"
  }
 },
 "nbformat": 4,
 "nbformat_minor": 5
}

{
 "cells": [
  {
   "cell_type": "code",
   "execution_count": 1,
   "id": "01843848-53fc-452c-9ed5-a344263cc508",
   "metadata": {},
   "outputs": [
    {
     "name": "stdout",
     "output_type": "stream",
     "text": [
      "Animesh\n"
     ]
    }
   ],
   "source": [
    "print('Animesh')"
   ]
  },
  {
   "cell_type": "code",
   "execution_count": null,
   "id": "cb195f83-c4f8-4665-b198-5827f029b148",
   "metadata": {},
   "outputs": [],
   "source": []
  }
 ],
 "metadata": {
  "kernelspec": {
   "display_name": "Python 3.14",
   "language": "python",
   "name": "python314"
  },
  "language_info": {
   "codemirror_mode": {
    "name": "ipython",
    "version": 3
   },
   "file_extension": ".py",
   "mimetype": "text/x-python",
   "name": "python",
   "nbconvert_exporter": "python",
   "pygments_lexer": "ipython3",
   "version": "3.13.2"
  }
 },
 "nbformat": 4,
 "nbformat_minor": 5
}
